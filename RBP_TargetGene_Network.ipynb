{
 "cells": [
  {
   "cell_type": "code",
   "execution_count": null,
   "metadata": {},
   "outputs": [],
   "source": [
    "import networkx as nx\n",
    "import matplotlib.pyplot as plt\n",
    "\n",
    "genes_in_ecori=['ACIN1','ADAR','AIFM1','ALKBH5','ALYREF','AUH','BCCIP','BUD13','CAPRIN1','CBX7','CELF2','CNBP','CPSF6','CSTF2T','DDX3X','DDX42','DDX54','DGCR8','DHX9','DICER1','DIS3L2','DKC1','EIF3A','EIF3B','EIF3D','EIF3G','EIF4A1','EIF4A3','EIF4G1','EIF4G2','ELAVL1','ELAVL3','EWSR1','FAM120A','FBL','FKBP4','FMR1','FTO','FUS','FXR1','FXR2','GNL3','GTF2F1','HNRNPA1','HNRNP2AB','HNRNPC','HNRNPD','HNRNPK','HNRNPL','HNRNPM','HNRNPU','HNRNPUL1','IGF2BP1','IGF2BP2','IGF2BP3','ILF3','KHDRBS1','KHDRBS2','KHDRBS3','KHSRP','LARP4B','LARP7','LIN28','LIN28A','LIN28B','LSM11','MBNL1','MBNL2','METTL14','METTL3','MOV10','MSI1','MSI2','NCBP3','NONO','NOP56','NOP58','NPM1','NUMA1','PAPD5','PCBP2','PRPF8','PTBP1','PUM1','PUM2','QKI','RANGAP1','RBFOX2','RBM10','RBM22','RBM27','RBM39','RBM47','RBM5','RBM6','RC3H1','RNF219','RTCB','SAFB2','SBDS','SF3A3','SF3B4','SLBP','SLTM','SMNDC1','SND1','SRSF1','SRSF10','SRSF9','SRS7','TAF15','TARBP2','TARDB','TIA1','TIAL1','TNRC6A','TRA2A','TROVE2','U2AF1','U2AF2','UPF1','VIM','WTAP','XRN2','YTHDC1','YTHDC2','YTHDF1','YTHDF2','YWHAG','Z3CH7B','ZFP36','ZNF184']\n",
    "edges=[]\n",
    "for i in list(set(main_dict.keys()).intersection(set(genes_in_ecori))):\n",
    "    edges=edges+[[i,vals] for vals in main_dict[i]] \n",
    "#edges\n",
    "\n",
    "\n",
    "#edges = [['A', 'B'], ['B', 'C'], ['B', 'D'],['A','C']]\n",
    "color_map = []\n",
    "\n",
    "G = nx.DiGraph()\n",
    "#for node in rbp_ed_islands:\n",
    "\n",
    "G.add_edges_from(edges)\n",
    "indeg = G.in_degree()\n",
    "\n",
    "to_remove = [n for (n, deg) in indeg if deg > 2 or deg==1 ]\n",
    "G.remove_nodes_from(to_remove)\n",
    "\n",
    "for node in G:\n",
    "    if node in main_dict.keys():\n",
    "        color_map.append('red')  #RBPs are coloured red\n",
    "    elif node in rbp_ed_islands:\n",
    "        color_map.append('cyan') #Target genes that span editing islands are coloured cyan\n",
    "pos = nx.spring_layout(G,k=2.8)\n",
    "plt.figure(figsize=(24,24))\n",
    "nx.draw(\n",
    "    G, pos, edge_color='magenta', width=0.4, linewidths=0.5,\n",
    "    node_size=700, node_color=color_map, alpha=0.9,\n",
    "    labels={node: node for node in G.nodes()})\n",
    "plt.show()\n",
    "#nx.draw_networkx_edge_labels(G,pos,edge_labels=labels)"
   ]
  }
 ],
 "metadata": {
  "kernelspec": {
   "display_name": "Python 3",
   "language": "python",
   "name": "python3"
  },
  "language_info": {
   "codemirror_mode": {
    "name": "ipython",
    "version": 3
   },
   "file_extension": ".py",
   "mimetype": "text/x-python",
   "name": "python",
   "nbconvert_exporter": "python",
   "pygments_lexer": "ipython3",
   "version": "3.8.5"
  }
 },
 "nbformat": 4,
 "nbformat_minor": 4
}
